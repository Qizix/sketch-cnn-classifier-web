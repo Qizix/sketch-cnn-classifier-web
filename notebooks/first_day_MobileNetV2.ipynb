{
 "cells": [
  {
   "cell_type": "code",
   "execution_count": 1,
   "metadata": {},
   "outputs": [
    {
     "name": "stderr",
     "output_type": "stream",
     "text": [
      "2025-01-16 18:07:28.120520: E external/local_xla/xla/stream_executor/cuda/cuda_fft.cc:477] Unable to register cuFFT factory: Attempting to register factory for plugin cuFFT when one has already been registered\n",
      "WARNING: All log messages before absl::InitializeLog() is called are written to STDERR\n",
      "E0000 00:00:1737050848.212806   62267 cuda_dnn.cc:8310] Unable to register cuDNN factory: Attempting to register factory for plugin cuDNN when one has already been registered\n",
      "E0000 00:00:1737050848.239428   62267 cuda_blas.cc:1418] Unable to register cuBLAS factory: Attempting to register factory for plugin cuBLAS when one has already been registered\n",
      "2025-01-16 18:07:28.461545: I tensorflow/core/platform/cpu_feature_guard.cc:210] This TensorFlow binary is optimized to use available CPU instructions in performance-critical operations.\n",
      "To enable the following instructions: AVX2 FMA, in other operations, rebuild TensorFlow with the appropriate compiler flags.\n"
     ]
    }
   ],
   "source": [
    "import numpy as np\n",
    "import pandas as pd\n",
    "\n",
    "import matplotlib.pyplot as plt\n",
    "import seaborn as sns; sns.set(); sns.set_style('dark')\n",
    "\n",
    "import json\n",
    "import os\n",
    "import datetime\n",
    "\n",
    "from sklearn.model_selection import train_test_split\n",
    "import tensorflow as tf\n",
    "\n",
    "from tensorflow.keras.preprocessing.image import ImageDataGenerator\n",
    "from tensorflow.keras.utils import to_categorical\n",
    "import cairosvg\n",
    "from PIL import Image"
   ]
  },
  {
   "cell_type": "code",
   "execution_count": 2,
   "metadata": {},
   "outputs": [
    {
     "name": "stdout",
     "output_type": "stream",
     "text": [
      "{'data': {'raw_path': '../data/raw/svg', 'processed_path': '../data/precessed/png_images', 'class_names': ['airplane', 'alarm clock', 'angel', 'ant', 'apple', 'arm', 'armchair', 'ashtray', 'axe', 'backpack', 'banana', 'barn', 'baseball bat', 'basket', 'bathtub', 'bear (animal)', 'bed', 'bee', 'beer-mug', 'bell', 'bench', 'bicycle', 'binoculars', 'blimp', 'book', 'bookshelf', 'boomerang', 'bottle opener', 'bowl', 'brain', 'bread', 'bridge', 'bulldozer', 'bus', 'bush', 'butterfly', 'cabinet', 'cactus', 'cake', 'calculator', 'camel', 'camera', 'candle', 'cannon', 'canoe', 'car (sedan)', 'carrot', 'castle', 'cat', 'cell phone', 'chair', 'chandelier', 'church', 'cigarette', 'cloud', 'comb', 'computer monitor', 'computer-mouse', 'couch', 'cow', 'crab', 'crane (machine)', 'crocodile', 'crown', 'cup', 'diamond', 'dog', 'dolphin', 'donut', 'door', 'door handle', 'dragon', 'duck', 'ear', 'elephant', 'envelope', 'eye', 'eyeglasses', 'face', 'fan', 'feather', 'fire hydrant', 'fish', 'flashlight', 'floor lamp', 'flower with stem', 'flying bird', 'flying saucer', 'foot', 'fork', 'frog', 'frying-pan', 'giraffe', 'grapes', 'grenade', 'guitar', 'hamburger', 'hammer', 'hand', 'harp', 'hat', 'head', 'head-phones', 'hedgehog', 'helicopter', 'helmet', 'horse', 'hot air balloon', 'hot-dog', 'hourglass', 'house', 'human-skeleton', 'ice-cream-cone', 'ipod', 'kangaroo', 'key', 'keyboard', 'knife', 'ladder', 'laptop', 'leaf', 'lightbulb', 'lighter', 'lion', 'lobster', 'loudspeaker', 'mailbox', 'megaphone', 'mermaid', 'microphone', 'microscope', 'monkey', 'moon', 'mosquito', 'motorbike', 'mouse (animal)', 'mouth', 'mug', 'mushroom', 'nose', 'octopus', 'owl', 'palm tree', 'panda', 'paper clip', 'parachute', 'parking meter', 'parrot', 'pear', 'pen', 'penguin', 'person sitting', 'person walking', 'piano', 'pickup truck', 'pig', 'pigeon', 'pineapple', 'pipe (for smoking)', 'pizza', 'potted plant', 'power outlet', 'present', 'pretzel', 'pumpkin', 'purse', 'rabbit', 'race car', 'radio', 'rainbow', 'revolver', 'rifle', 'rollerblades', 'rooster', 'sailboat', 'santa claus', 'satellite', 'satellite dish', 'saxophone', 'scissors', 'scorpion', 'screwdriver', 'sea turtle', 'seagull', 'shark', 'sheep', 'ship', 'shoe', 'shovel', 'skateboard', 'skull', 'skyscraper', 'snail', 'snake', 'snowboard', 'snowman', 'socks', 'space shuttle', 'speed-boat', 'spider', 'sponge bob', 'spoon', 'squirrel', 'standing bird', 'stapler', 'strawberry', 'streetlight', 'submarine', 'suitcase', 'sun', 'suv', 'swan', 'sword', 'syringe', 't-shirt', 'table', 'tablelamp', 'teacup', 'teapot', 'teddy-bear', 'telephone', 'tennis-racket', 'tent', 'tiger', 'tire', 'toilet', 'tomato', 'tooth', 'toothbrush', 'tractor', 'traffic light', 'train', 'tree', 'trombone', 'trousers', 'truck', 'trumpet', 'tv', 'umbrella', 'van', 'vase', 'violin', 'walkie talkie', 'wheel', 'wheelbarrow', 'windmill', 'wine-bottle', 'wineglass', 'wrist-watch', 'zebra']}, 'model': {'input_size': 256, 'output_size': 250, 'batch_size': 32}, 'training': {'checkpoint_dir': '../models/checkpoints/', 'final_model_dir': '../models/final/'}}\n"
     ]
    }
   ],
   "source": [
    "with open(\"../configs/config.json\", \"r\") as file:\n",
    "    config = json.load(file)\n",
    "\n",
    "# Виведення конфігурації\n",
    "print(config)"
   ]
  },
  {
   "cell_type": "code",
   "execution_count": 3,
   "metadata": {},
   "outputs": [],
   "source": [
    "# Constants\n",
    "IMAGE_SIZE = (config['model']['input_size'], config['model']['input_size'])\n",
    "BATCH_SIZE = config['model']['batch_size']\n",
    "NUM_CLASSES = config['model']['output_size']\n",
    "DATA_DIR = config['data']['raw_path']\n",
    "OUTPUT_DIR = config['data']['processed_path']"
   ]
  },
  {
   "cell_type": "code",
   "execution_count": 4,
   "metadata": {},
   "outputs": [],
   "source": [
    "# from PIL import Image\n",
    "\n",
    "# def convert_svg_to_png(svg_path, png_path):\n",
    "#     \"\"\"Конвертує SVG у PNG з обробкою альфа-каналу.\"\"\"\n",
    "#     try:\n",
    "#         # Конвертація SVG у PNG за допомогою cairosvg\n",
    "#         cairosvg.svg2png(url=svg_path, write_to=png_path)\n",
    "        \n",
    "#         # Відкриття PNG і перетворення на RGB з білим фоном\n",
    "#         image = Image.open(png_path)\n",
    "#         if image.mode == 'RGBA':\n",
    "#             background = Image.new('RGB', image.size, (255, 255, 255))\n",
    "#             background.paste(image, mask=image.split()[-1])  # Використовуємо альфа-канал як маску\n",
    "#             image = background\n",
    "#         image.save(png_path)  # Зберігаємо оновлене зображення\n",
    "#         return True\n",
    "#     except Exception as e:\n",
    "#         print(f\"Помилка конвертації {svg_path}: {e}\")\n",
    "#         return False\n",
    "\n",
    "# def preprocess_dataset(data_dir, output_dir):\n",
    "#     \"\"\"Convert all SVGs in the dataset to PNGs and save them in the output directory.\"\"\"\n",
    "#     if not os.path.exists(output_dir):\n",
    "#         os.makedirs(output_dir)\n",
    "\n",
    "#     for category in os.listdir(data_dir):\n",
    "#         category_dir = os.path.join(data_dir, category)\n",
    "#         if os.path.isdir(category_dir):\n",
    "#             output_category_dir = os.path.join(output_dir, category)\n",
    "#             os.makedirs(output_category_dir, exist_ok=True)\n",
    "\n",
    "#             for svg_file in os.listdir(category_dir):\n",
    "#                 if svg_file.endswith(\".svg\"):\n",
    "#                     svg_path = os.path.join(category_dir, svg_file)\n",
    "#                     png_path = os.path.join(output_category_dir, svg_file.replace(\".svg\", \".png\"))\n",
    "#                     success = convert_svg_to_png(svg_path, png_path)\n",
    "#                     if not success:\n",
    "#                         print(f\"Skipping {svg_path} due to conversion error.\")\n",
    "\n",
    "# # Convert SVGs to PNGs (only need to do this once)\n",
    "# preprocess_dataset(DATA_DIR, OUTPUT_DIR)"
   ]
  },
  {
   "cell_type": "code",
   "execution_count": 5,
   "metadata": {},
   "outputs": [
    {
     "data": {
      "text/plain": [
       "['airplane',\n",
       " 'alarm clock',\n",
       " 'angel',\n",
       " 'ant',\n",
       " 'apple',\n",
       " 'arm',\n",
       " 'armchair',\n",
       " 'ashtray',\n",
       " 'axe',\n",
       " 'backpack',\n",
       " 'banana',\n",
       " 'barn',\n",
       " 'baseball bat',\n",
       " 'basket',\n",
       " 'bathtub',\n",
       " 'bear (animal)',\n",
       " 'bed',\n",
       " 'bee',\n",
       " 'beer-mug',\n",
       " 'bell',\n",
       " 'bench',\n",
       " 'bicycle',\n",
       " 'binoculars',\n",
       " 'blimp',\n",
       " 'book',\n",
       " 'bookshelf',\n",
       " 'boomerang',\n",
       " 'bottle opener',\n",
       " 'bowl',\n",
       " 'brain',\n",
       " 'bread',\n",
       " 'bridge',\n",
       " 'bulldozer',\n",
       " 'bus',\n",
       " 'bush',\n",
       " 'butterfly',\n",
       " 'cabinet',\n",
       " 'cactus',\n",
       " 'cake',\n",
       " 'calculator',\n",
       " 'camel',\n",
       " 'camera',\n",
       " 'candle',\n",
       " 'cannon',\n",
       " 'canoe',\n",
       " 'car (sedan)',\n",
       " 'carrot',\n",
       " 'castle',\n",
       " 'cat',\n",
       " 'cell phone',\n",
       " 'chair',\n",
       " 'chandelier',\n",
       " 'church',\n",
       " 'cigarette',\n",
       " 'cloud',\n",
       " 'comb',\n",
       " 'computer monitor',\n",
       " 'computer-mouse',\n",
       " 'couch',\n",
       " 'cow',\n",
       " 'crab',\n",
       " 'crane (machine)',\n",
       " 'crocodile',\n",
       " 'crown',\n",
       " 'cup',\n",
       " 'diamond',\n",
       " 'dog',\n",
       " 'dolphin',\n",
       " 'donut',\n",
       " 'door',\n",
       " 'door handle',\n",
       " 'dragon',\n",
       " 'duck',\n",
       " 'ear',\n",
       " 'elephant',\n",
       " 'envelope',\n",
       " 'eye',\n",
       " 'eyeglasses',\n",
       " 'face',\n",
       " 'fan',\n",
       " 'feather',\n",
       " 'fire hydrant',\n",
       " 'fish',\n",
       " 'flashlight',\n",
       " 'floor lamp',\n",
       " 'flower with stem',\n",
       " 'flying bird',\n",
       " 'flying saucer',\n",
       " 'foot',\n",
       " 'fork',\n",
       " 'frog',\n",
       " 'frying-pan',\n",
       " 'giraffe',\n",
       " 'grapes',\n",
       " 'grenade',\n",
       " 'guitar',\n",
       " 'hamburger',\n",
       " 'hammer',\n",
       " 'hand',\n",
       " 'harp',\n",
       " 'hat',\n",
       " 'head',\n",
       " 'head-phones',\n",
       " 'hedgehog',\n",
       " 'helicopter',\n",
       " 'helmet',\n",
       " 'horse',\n",
       " 'hot air balloon',\n",
       " 'hot-dog',\n",
       " 'hourglass',\n",
       " 'house',\n",
       " 'human-skeleton',\n",
       " 'ice-cream-cone',\n",
       " 'ipod',\n",
       " 'kangaroo',\n",
       " 'key',\n",
       " 'keyboard',\n",
       " 'knife',\n",
       " 'ladder',\n",
       " 'laptop',\n",
       " 'leaf',\n",
       " 'lightbulb',\n",
       " 'lighter',\n",
       " 'lion',\n",
       " 'lobster',\n",
       " 'loudspeaker',\n",
       " 'mailbox',\n",
       " 'megaphone',\n",
       " 'mermaid',\n",
       " 'microphone',\n",
       " 'microscope',\n",
       " 'monkey',\n",
       " 'moon',\n",
       " 'mosquito',\n",
       " 'motorbike',\n",
       " 'mouse (animal)',\n",
       " 'mouth',\n",
       " 'mug',\n",
       " 'mushroom',\n",
       " 'nose',\n",
       " 'octopus',\n",
       " 'owl',\n",
       " 'palm tree',\n",
       " 'panda',\n",
       " 'paper clip',\n",
       " 'parachute',\n",
       " 'parking meter',\n",
       " 'parrot',\n",
       " 'pear',\n",
       " 'pen',\n",
       " 'penguin',\n",
       " 'person sitting',\n",
       " 'person walking',\n",
       " 'piano',\n",
       " 'pickup truck',\n",
       " 'pig',\n",
       " 'pigeon',\n",
       " 'pineapple',\n",
       " 'pipe (for smoking)',\n",
       " 'pizza',\n",
       " 'potted plant',\n",
       " 'power outlet',\n",
       " 'present',\n",
       " 'pretzel',\n",
       " 'pumpkin',\n",
       " 'purse',\n",
       " 'rabbit',\n",
       " 'race car',\n",
       " 'radio',\n",
       " 'rainbow',\n",
       " 'revolver',\n",
       " 'rifle',\n",
       " 'rollerblades',\n",
       " 'rooster',\n",
       " 'sailboat',\n",
       " 'santa claus',\n",
       " 'satellite',\n",
       " 'satellite dish',\n",
       " 'saxophone',\n",
       " 'scissors',\n",
       " 'scorpion',\n",
       " 'screwdriver',\n",
       " 'sea turtle',\n",
       " 'seagull',\n",
       " 'shark',\n",
       " 'sheep',\n",
       " 'ship',\n",
       " 'shoe',\n",
       " 'shovel',\n",
       " 'skateboard',\n",
       " 'skull',\n",
       " 'skyscraper',\n",
       " 'snail',\n",
       " 'snake',\n",
       " 'snowboard',\n",
       " 'snowman',\n",
       " 'socks',\n",
       " 'space shuttle',\n",
       " 'speed-boat',\n",
       " 'spider',\n",
       " 'sponge bob',\n",
       " 'spoon',\n",
       " 'squirrel',\n",
       " 'standing bird',\n",
       " 'stapler',\n",
       " 'strawberry',\n",
       " 'streetlight',\n",
       " 'submarine',\n",
       " 'suitcase',\n",
       " 'sun',\n",
       " 'suv',\n",
       " 'swan',\n",
       " 'sword',\n",
       " 'syringe',\n",
       " 't-shirt',\n",
       " 'table',\n",
       " 'tablelamp',\n",
       " 'teacup',\n",
       " 'teapot',\n",
       " 'teddy-bear',\n",
       " 'telephone',\n",
       " 'tennis-racket',\n",
       " 'tent',\n",
       " 'tiger',\n",
       " 'tire',\n",
       " 'toilet',\n",
       " 'tomato',\n",
       " 'tooth',\n",
       " 'toothbrush',\n",
       " 'tractor',\n",
       " 'traffic light',\n",
       " 'train',\n",
       " 'tree',\n",
       " 'trombone',\n",
       " 'trousers',\n",
       " 'truck',\n",
       " 'trumpet',\n",
       " 'tv',\n",
       " 'umbrella',\n",
       " 'van',\n",
       " 'vase',\n",
       " 'violin',\n",
       " 'walkie talkie',\n",
       " 'wheel',\n",
       " 'wheelbarrow',\n",
       " 'windmill',\n",
       " 'wine-bottle',\n",
       " 'wineglass',\n",
       " 'wrist-watch',\n",
       " 'zebra']"
      ]
     },
     "execution_count": 5,
     "metadata": {},
     "output_type": "execute_result"
    }
   ],
   "source": [
    "import os\n",
    "\n",
    "# Шлях до директорії з даними\n",
    "\n",
    "# Отримання списку класів\n",
    "class_names = sorted(os.listdir(OUTPUT_DIR))\n",
    "class_names"
   ]
  },
  {
   "cell_type": "code",
   "execution_count": 6,
   "metadata": {},
   "outputs": [
    {
     "name": "stdout",
     "output_type": "stream",
     "text": [
      "Шлях до зображення: ../data/precessed/png_images/cow/4724.png\n",
      "Режим зображення: RGB\n",
      "Розмір зображення: (800, 800)\n",
      "Мінімальне значення пікселя: 0\n",
      "Максимальне значення пікселя: 255\n",
      "Середнє значення пікселя: 250.3228265625\n"
     ]
    },
    {
     "data": {
      "image/png": "[encoded data removed]",
      "text/plain": [
       "<Figure size 640x480 with 1 Axes>"
      ]
     },
     "metadata": {},
     "output_type": "display_data"
    }
   ],
   "source": [
    "import os\n",
    "import random\n",
    "from PIL import Image\n",
    "import numpy as np\n",
    "import matplotlib.pyplot as plt\n",
    "\n",
    "# Шлях до директорії з зображеннями\n",
    "\n",
    "# Отримання списку всіх зображень\n",
    "image_paths = []\n",
    "for root, dirs, files in os.walk(OUTPUT_DIR):\n",
    "    for file in files:\n",
    "        if file.endswith(\".png\") or file.endswith(\".jpg\"):\n",
    "            image_paths.append(os.path.join(root, file))\n",
    "\n",
    "# Випадковий вибір зображення\n",
    "random_image_path = random.choice(image_paths)\n",
    "\n",
    "# Завантаження зображення\n",
    "image = Image.open(random_image_path)\n",
    "\n",
    "# Виведення інформації про зображення\n",
    "print(\"Шлях до зображення:\", random_image_path)\n",
    "print(\"Режим зображення:\", image.mode)\n",
    "print(\"Розмір зображення:\", image.size)\n",
    "\n",
    "# Перетворення зображення в масив numpy\n",
    "image_array = np.array(image)\n",
    "\n",
    "# Виведення статистики пікселів\n",
    "print(\"Мінімальне значення пікселя:\", np.min(image_array))\n",
    "print(\"Максимальне значення пікселя:\", np.max(image_array))\n",
    "print(\"Середнє значення пікселя:\", np.mean(image_array))\n",
    "\n",
    "# Відображення зображення\n",
    "plt.imshow(image)\n",
    "plt.axis(\"off\")\n",
    "plt.title(\"Випадкове зображення\")\n",
    "plt.show()"
   ]
  },
  {
   "cell_type": "code",
   "execution_count": 7,
   "metadata": {},
   "outputs": [],
   "source": [
    "# # Створення генераторів даних\n",
    "# train_datagen = ImageDataGenerator(\n",
    "#     rescale=1.0 / 255.0,  # Нормалізація пікселів до [0, 1]\n",
    "#     rotation_range=20,  # Випадкове обертання\n",
    "#     width_shift_range=0.2,  # Випадковий зсув по горизонталі\n",
    "#     height_shift_range=0.2,  # Випадковий зсув по вертикалі\n",
    "#     shear_range=0.2,  # Випадкове зсування\n",
    "#     zoom_range=0.2,  # Випадкове збільшення\n",
    "#     horizontal_flip=True,  # Випадкове віддзеркалення по горизонталі\n",
    "#     fill_mode=\"nearest\",  # Заповнення відсутніх пікселів\n",
    "#     validation_split=0.2  # Розділення даних на навчання/валідацію\n",
    "# )\n",
    "\n",
    "# train_generator = train_datagen.flow_from_directory(\n",
    "#     OUTPUT_DIR,\n",
    "#     target_size=IMAGE_SIZE,\n",
    "#     batch_size=BATCH_SIZE,\n",
    "#     class_mode=\"categorical\",\n",
    "#     color_mode=\"rgb\",  # Використовуємо RGB\n",
    "#     subset=\"training\"  # Для навчання\n",
    "# )\n",
    "\n",
    "# val_generator = train_datagen.flow_from_directory(\n",
    "#     OUTPUT_DIR,\n",
    "#     target_size=IMAGE_SIZE,\n",
    "#     batch_size=BATCH_SIZE,\n",
    "#     class_mode=\"categorical\",\n",
    "#     color_mode=\"rgb\",  # Використовуємо RGB\n",
    "#     subset=\"validation\"  # Для валідації\n",
    "# )"
   ]
  },
  {
   "cell_type": "code",
   "execution_count": 8,
   "metadata": {},
   "outputs": [
    {
     "name": "stderr",
     "output_type": "stream",
     "text": [
      "I0000 00:00:1737050851.798909   62267 gpu_device.cc:2022] Created device /job:localhost/replica:0/task:0/device:GPU:0 with 5592 MB memory:  -> device: 0, name: NVIDIA GeForce RTX 3060 Ti, pci bus id: 0000:05:00.0, compute capability: 8.6\n"
     ]
    },
    {
     "data": {
      "text/plain": [
       "<matplotlib.image.AxesImage at 0x7f8993bb7740>"
      ]
     },
     "execution_count": 8,
     "metadata": {},
     "output_type": "execute_result"
    },
    {
     "data": {
      "image/png": "[encoded data removed]",
      "text/plain": [
       "<Figure size 640x480 with 1 Axes>"
      ]
     },
     "metadata": {},
     "output_type": "display_data"
    }
   ],
   "source": [
    "import pathlib\n",
    "data_dir = pathlib.Path(OUTPUT_DIR)\n",
    "images = list(data_dir.glob('*/*.png')) + list(data_dir.glob('*/*.jpg'))\n",
    "images = [str(path) for path in images]\n",
    "labels = [os.path.basename(os.path.dirname(path)) for path in images]\n",
    "label_to_index = {name: index for index, name in enumerate(sorted(set(labels)))}\n",
    "labels = [label_to_index[label] for label in labels]\n",
    "tio = tf.io.read_file(images[0])\n",
    "# plt.imshow(tio)\n",
    "tio = tf.image.decode_png(tio, channels=0)\n",
    "tio = tf.image.resize(tio, IMAGE_SIZE)\n",
    "tio = tf.cast(tio, tf.float32) / 255.0\n",
    "plt.imshow(tio)"
   ]
  },
  {
   "cell_type": "code",
   "execution_count": 9,
   "metadata": {},
   "outputs": [
    {
     "name": "stdout",
     "output_type": "stream",
     "text": [
      "WARNING:tensorflow:From /tmp/ipykernel_62267/2817780371.py:49: shuffle_and_repeat (from tensorflow.python.data.experimental.ops.shuffle_ops) is deprecated and will be removed in a future version.\n",
      "Instructions for updating:\n",
      "Use `tf.data.Dataset.shuffle(buffer_size, seed)` followed by `tf.data.Dataset.repeat(count)`. Static tf.data optimizations will take care of using the fused implementation.\n",
      "Train dataset: <_PrefetchDataset element_spec=(TensorSpec(shape=(None, 256, 256, 3), dtype=tf.float32, name=None), TensorSpec(shape=(None, 250), dtype=tf.float64, name=None))>\n",
      "Validation dataset: <_PrefetchDataset element_spec=(TensorSpec(shape=(None, 256, 256, 3), dtype=tf.float32, name=None), TensorSpec(shape=(None, 250), dtype=tf.float64, name=None))>\n",
      "Steps per epoch: 624\n"
     ]
    }
   ],
   "source": [
    "def create_dataset(data_dir, is_training=True):\n",
    "    data_dir = pathlib.Path(data_dir)\n",
    "    \n",
    "    # Отримуємо список всіх зображень та їх міток\n",
    "    images = list(data_dir.glob('*/*.png')) + list(data_dir.glob('*/*.jpg'))\n",
    "    images = [str(path) for path in images]\n",
    "    labels = [os.path.basename(os.path.dirname(path)) for path in images]\n",
    "    \n",
    "    # Створюємо словник міток\n",
    "    label_to_index = {name: index for index, name in enumerate(sorted(set(labels)))}\n",
    "    labels = [label_to_index[label] for label in labels]\n",
    "\n",
    "    labels = to_categorical(labels, num_classes=NUM_CLASSES)\n",
    "    # Створюємо tf.data.Dataset\n",
    "    ds = tf.data.Dataset.from_tensor_slices((images, labels))\n",
    "    \n",
    "    # Функція для завантаження та попередньої обробки зображення\n",
    "    def preprocess_image(file_path, label):\n",
    "        img = tf.io.read_file(file_path)\n",
    "        img = tf.image.decode_png(img, channels=3)  # Змінено на 1 канал\n",
    "        img = tf.image.resize(img, IMAGE_SIZE)\n",
    "        img = tf.cast(img, tf.float32) / 255.0\n",
    "        return img, label\n",
    "\n",
    "    # Функція для аугментації зображення\n",
    "    def augment(image, label):\n",
    "        # Масштабування (тільки збільшення до 10%)\n",
    "        scale = tf.random.uniform([], 1.0, 1.1, dtype=tf.float32)\n",
    "        new_height = tf.cast(tf.cast(tf.shape(image)[0], tf.float32) * scale, tf.int32)\n",
    "        new_width = tf.cast(tf.cast(tf.shape(image)[1], tf.float32) * scale, tf.int32)\n",
    "        image = tf.image.resize(image, [new_height, new_width])\n",
    "        \n",
    "        # Обрізаємо до потрібного розміру\n",
    "        image = tf.image.random_crop(image, size=[IMAGE_SIZE[0], IMAGE_SIZE[1], 3])\n",
    "        \n",
    "        # Випадковий поворот (до 15 градусів)\n",
    "        image = tf.image.rot90(image, tf.random.uniform(shape=[], minval=0, maxval=4, dtype=tf.int32))\n",
    "        image = tf.image.random_flip_left_right(image)\n",
    "        \n",
    "        return image, label\n",
    "\n",
    "    # Застосовуємо попередню обробку\n",
    "    ds = ds.map(preprocess_image, num_parallel_calls=tf.data.AUTOTUNE)\n",
    "\n",
    "    if is_training:\n",
    "        # Кешуємо дані перед аугментацією\n",
    "        ds = ds.cache()\n",
    "        # Перемішуємо дані\n",
    "        ds = ds.apply(tf.data.experimental.shuffle_and_repeat(buffer_size=1000))\n",
    "        # Повторюємо датасет нескінченно для аугментації\n",
    "        ds = ds.repeat()\n",
    "        # Застосовуємо аугментацію\n",
    "        ds = ds.map(augment, num_parallel_calls=tf.data.AUTOTUNE)\n",
    "    else:\n",
    "        # Для валідаційного набору просто кешуємо\n",
    "        ds = ds.cache()\n",
    "\n",
    "    # Створюємо батчі та префетчимо дані\n",
    "    ds = ds.batch(BATCH_SIZE)\n",
    "    ds = ds.prefetch(buffer_size=tf.data.AUTOTUNE)\n",
    "\n",
    "    return ds\n",
    "\n",
    "# Створення наборів даних для навчання та валідації\n",
    "train_ds = create_dataset(OUTPUT_DIR, is_training=True)\n",
    "val_ds = create_dataset(OUTPUT_DIR, is_training=False)\n",
    "\n",
    "# Визначаємо кількість кроків на епоху\n",
    "steps_per_epoch = len(images) // BATCH_SIZE\n",
    "\n",
    "# Виведення інформації про набори даних\n",
    "print(\"Train dataset:\", train_ds)\n",
    "print(\"Validation dataset:\", val_ds)\n",
    "print(\"Steps per epoch:\", steps_per_epoch)"
   ]
  },
  {
   "cell_type": "code",
   "execution_count": 10,
   "metadata": {},
   "outputs": [
    {
     "ename": "NameError",
     "evalue": "name 'preprocess_function' is not defined",
     "output_type": "error",
     "traceback": [
      "\u001b[0;31m---------------------------------------------------------------------------\u001b[0m",
      "\u001b[0;31mNameError\u001b[0m                                 Traceback (most recent call last)",
      "Cell \u001b[0;32mIn[10], line 15\u001b[0m\n\u001b[1;32m     12\u001b[0m     \u001b[38;5;28;01mreturn\u001b[39;00m dataset\n\u001b[1;32m     14\u001b[0m \u001b[38;5;66;03m# Use the function\u001b[39;00m\n\u001b[0;32m---> 15\u001b[0m train_ds \u001b[38;5;241m=\u001b[39m \u001b[43mprepare_dataset\u001b[49m\u001b[43m(\u001b[49m\u001b[43mtrain_ds\u001b[49m\u001b[43m,\u001b[49m\u001b[43m \u001b[49m\u001b[43mbatch_size\u001b[49m\u001b[38;5;241;43m=\u001b[39;49m\u001b[38;5;241;43m32\u001b[39;49m\u001b[43m)\u001b[49m\n\u001b[1;32m     16\u001b[0m val_ds \u001b[38;5;241m=\u001b[39m prepare_dataset(val_ds, batch_size\u001b[38;5;241m=\u001b[39m\u001b[38;5;241m32\u001b[39m, cache\u001b[38;5;241m=\u001b[39m\u001b[38;5;28;01mFalse\u001b[39;00m, shuffle_buffer_size\u001b[38;5;241m=\u001b[39m\u001b[38;5;28;01mNone\u001b[39;00m)\n",
      "Cell \u001b[0;32mIn[10], line 3\u001b[0m, in \u001b[0;36mprepare_dataset\u001b[0;34m(dataset, batch_size, cache, shuffle_buffer_size)\u001b[0m\n\u001b[1;32m      1\u001b[0m \u001b[38;5;28;01mdef\u001b[39;00m\u001b[38;5;250m \u001b[39m\u001b[38;5;21mprepare_dataset\u001b[39m(dataset, batch_size, cache\u001b[38;5;241m=\u001b[39m\u001b[38;5;28;01mTrue\u001b[39;00m, shuffle_buffer_size\u001b[38;5;241m=\u001b[39m\u001b[38;5;241m1000\u001b[39m):\n\u001b[1;32m      2\u001b[0m     \u001b[38;5;66;03m# Apply any necessary preprocessing\u001b[39;00m\n\u001b[0;32m----> 3\u001b[0m     dataset \u001b[38;5;241m=\u001b[39m dataset\u001b[38;5;241m.\u001b[39mmap(\u001b[43mpreprocess_function\u001b[49m, num_parallel_calls\u001b[38;5;241m=\u001b[39mtf\u001b[38;5;241m.\u001b[39mdata\u001b[38;5;241m.\u001b[39mAUTOTUNE)\n\u001b[1;32m      5\u001b[0m     \u001b[38;5;28;01mif\u001b[39;00m cache:\n\u001b[1;32m      6\u001b[0m         dataset \u001b[38;5;241m=\u001b[39m dataset\u001b[38;5;241m.\u001b[39mcache()\n",
      "\u001b[0;31mNameError\u001b[0m: name 'preprocess_function' is not defined"
     ]
    }
   ],
   "source": [
    "def prepare_dataset(dataset, batch_size, cache=True, shuffle_buffer_size=1000):\n",
    "    # Apply any necessary preprocessing\n",
    "    dataset = dataset.map(preprocess_function, num_parallel_calls=tf.data.AUTOTUNE)\n",
    "    \n",
    "    if cache:\n",
    "        dataset = dataset.cache()\n",
    "    \n",
    "    dataset = dataset.shuffle(shuffle_buffer_size)\n",
    "    dataset = dataset.batch(batch_size)\n",
    "    dataset = dataset.prefetch(tf.data.AUTOTUNE)\n",
    "    \n",
    "    return dataset\n",
    "\n",
    "# Use the function\n",
    "train_ds = prepare_dataset(train_ds, batch_size=32)\n",
    "val_ds = prepare_dataset(val_ds, batch_size=32, cache=False, shuffle_buffer_size=None)"
   ]
  },
  {
   "cell_type": "code",
   "execution_count": 10,
   "metadata": {},
   "outputs": [
    {
     "name": "stderr",
     "output_type": "stream",
     "text": [
      "2025-01-16 18:03:50.517006: W tensorflow/core/kernels/data/cache_dataset_ops.cc:914] The calling iterator did not fully read the dataset being cached. In order to avoid unexpected truncation of the dataset, the partially cached contents of the dataset  will be discarded. This can happen if you have an input pipeline similar to `dataset.cache().take(k).repeat()`. You should use `dataset.take(k).cache().repeat()` instead.\n",
      "2025-01-16 18:03:50.562172: I tensorflow/core/framework/local_rendezvous.cc:405] Local rendezvous is aborting with status: OUT_OF_RANGE: End of sequence\n"
     ]
    },
    {
     "data": {
      "image/png": "[encoded data removed]",
      "text/plain": [
       "<Figure size 1500x500 with 5 Axes>"
      ]
     },
     "metadata": {},
     "output_type": "display_data"
    }
   ],
   "source": [
    "def show_first_5_images(dataset):\n",
    "    plt.figure(figsize=(15, 5))\n",
    "    for images, labels in dataset.take(1):\n",
    "        for i in range(5):\n",
    "            ax = plt.subplot(1, 5, i + 1)\n",
    "            plt.imshow(images[i].numpy())\n",
    "            # Знаходимо індекс класу з one-hot encoding\n",
    "            label_index = np.argmax(labels[i].numpy())\n",
    "            plt.title(f\"Label: {class_names[label_index]}\")\n",
    "            plt.axis(\"off\")\n",
    "    plt.tight_layout()\n",
    "    plt.show()\n",
    "\n",
    "# Використання функції\n",
    "show_first_5_images(train_ds)"
   ]
  },
  {
   "cell_type": "code",
   "execution_count": 11,
   "metadata": {},
   "outputs": [
    {
     "name": "stderr",
     "output_type": "stream",
     "text": [
      "/tmp/ipykernel_61048/1808916435.py:3: UserWarning: `input_shape` is undefined or non-square, or `rows` is not in [96, 128, 160, 192, 224]. Weights for input shape (224, 224) will be loaded as the default.\n",
      "  base_model = MobileNetV2(\n"
     ]
    }
   ],
   "source": [
    "from tensorflow.keras.applications import MobileNetV2\n",
    "\n",
    "base_model = MobileNetV2(\n",
    "    input_shape=(IMAGE_SIZE[0], IMAGE_SIZE[1], 3),  # Розмір вхідних зображень\n",
    "    include_top=False,  # Виключаємо верхній шар (класифікатор)\n",
    "    weights=\"imagenet\"  # Використовуємо попередньо навчені ваги\n",
    ")"
   ]
  },
  {
   "cell_type": "code",
   "execution_count": null,
   "metadata": {},
   "outputs": [
    {
     "ename": "",
     "evalue": "",
     "output_type": "error",
     "traceback": [
      "\u001b[1;31mThe Kernel crashed while executing code in the current cell or a previous cell. \n",
      "\u001b[1;31mPlease review the code in the cell(s) to identify a possible cause of the failure. \n",
      "\u001b[1;31mClick <a href='https://aka.ms/vscodeJupyterKernelCrash'>here</a> for more info. \n",
      "\u001b[1;31mView Jupyter <a href='command:jupyter.viewOutput'>log</a> for further details."
     ]
    }
   ],
   "source": [
    "from tensorflow.keras.applications import MobileNetV2\n",
    "from tensorflow.keras.layers import Dense, GlobalAveragePooling2D, Dropout\n",
    "from tensorflow.keras.models import Model\n",
    "from tensorflow.keras.optimizers import Adam\n",
    "\n",
    "# Заморожуємо базову модель (щоб не навчати її заново)\n",
    "base_model.trainable = False\n",
    "\n",
    "# Додавання власних шарів для класифікації\n",
    "x = base_model.output\n",
    "x = GlobalAveragePooling2D()(x)\n",
    "x = Dense(1024, activation='relu')(x)\n",
    "x = Dropout(0.2)(x)\n",
    "x = Dense(512, activation='relu')(x)\n",
    "x = Dropout(0.2)(x)\n",
    "outputs = Dense(NUM_CLASSES, activation='softmax')(x)\n",
    "\n",
    "# Створення моделі\n",
    "model = Model(inputs=base_model.input, outputs=outputs)\n",
    "\n",
    "# Компіляція моделі\n",
    "model.compile(\n",
    "    optimizer=Adam(learning_rate=0.0001),  # Оптимізатор з низьким learning rate\n",
    "    loss=\"categorical_crossentropy\",  # Функція втрат для багатокласової класифікації\n",
    "    metrics=[\"accuracy\"]  # Метрика для оцінки\n",
    ")"
   ]
  },
  {
   "cell_type": "code",
   "execution_count": 62,
   "metadata": {},
   "outputs": [
    {
     "name": "stdout",
     "output_type": "stream",
     "text": [
      "Epoch 1/10\n"
     ]
    },
    {
     "name": "stderr",
     "output_type": "stream",
     "text": [
      "WARNING: All log messages before absl::InitializeLog() is called are written to STDERR\n",
      "I0000 00:00:1737050636.246386   61189 service.cc:148] XLA service 0x7f67b0001d50 initialized for platform CUDA (this does not guarantee that XLA will be used). Devices:\n",
      "I0000 00:00:1737050636.247160   61189 service.cc:156]   StreamExecutor device (0): NVIDIA GeForce RTX 3060 Ti, Compute Capability 8.6\n",
      "2025-01-16 18:03:56.590242: I tensorflow/compiler/mlir/tensorflow/utils/dump_mlir_util.cc:268] disabling MLIR crash reproducer, set env var `MLIR_CRASH_REPRODUCER_DIRECTORY` to enable.\n",
      "I0000 00:00:1737050637.251504   61189 cuda_dnn.cc:529] Loaded cuDNN version 90300\n",
      "2025-01-16 18:03:58.329974: I external/local_xla/xla/stream_executor/cuda/cuda_asm_compiler.cc:397] ptxas warning : Registers are spilled to local memory in function 'gemm_fusion_dot_2003_0', 104 bytes spill stores, 136 bytes spill loads\n",
      "\n",
      "2025-01-16 18:03:58.587250: I external/local_xla/xla/stream_executor/cuda/cuda_asm_compiler.cc:397] ptxas warning : Registers are spilled to local memory in function 'gemm_fusion_dot_2003', 16 bytes spill stores, 16 bytes spill loads\n",
      "\n",
      "2025-01-16 18:03:58.722196: I external/local_xla/xla/stream_executor/cuda/cuda_asm_compiler.cc:397] ptxas warning : Registers are spilled to local memory in function 'gemm_fusion_dot_2003', 228 bytes spill stores, 228 bytes spill loads\n",
      "\n",
      "2025-01-16 18:03:59.235291: I external/local_xla/xla/stream_executor/cuda/cuda_asm_compiler.cc:397] ptxas warning : Registers are spilled to local memory in function 'gemm_fusion_dot_2003_0', 244 bytes spill stores, 244 bytes spill loads\n",
      "\n",
      "2025-01-16 18:03:59.626638: I external/local_xla/xla/stream_executor/cuda/cuda_asm_compiler.cc:397] ptxas warning : Registers are spilled to local memory in function 'gemm_fusion_dot_5066', 24 bytes spill stores, 24 bytes spill loads\n",
      "\n",
      "2025-01-16 18:03:59.683514: I external/local_xla/xla/stream_executor/cuda/cuda_asm_compiler.cc:397] ptxas warning : Registers are spilled to local memory in function 'gemm_fusion_dot_5066', 24 bytes spill stores, 28 bytes spill loads\n",
      "\n",
      "2025-01-16 18:04:00.147274: I external/local_xla/xla/stream_executor/cuda/cuda_asm_compiler.cc:397] ptxas warning : Registers are spilled to local memory in function 'gemm_fusion_dot_5024', 216 bytes spill stores, 216 bytes spill loads\n",
      "\n",
      "2025-01-16 18:04:00.432423: I external/local_xla/xla/stream_executor/cuda/cuda_asm_compiler.cc:397] ptxas warning : Registers are spilled to local memory in function 'gemm_fusion_dot_5066', 24 bytes spill stores, 28 bytes spill loads\n",
      "\n",
      "2025-01-16 18:04:00.517653: I external/local_xla/xla/stream_executor/cuda/cuda_asm_compiler.cc:397] ptxas warning : Registers are spilled to local memory in function 'gemm_fusion_dot_5026', 28 bytes spill stores, 28 bytes spill loads\n",
      "\n",
      "E0000 00:00:1737050641.946176   61189 gpu_timer.cc:82] Delay kernel timed out: measured time has sub-optimal accuracy. There may be a missing warmup execution, please investigate in Nsight Systems.\n",
      "E0000 00:00:1737050642.101218   61189 gpu_timer.cc:82] Delay kernel timed out: measured time has sub-optimal accuracy. There may be a missing warmup execution, please investigate in Nsight Systems.\n"
     ]
    },
    {
     "name": "stdout",
     "output_type": "stream",
     "text": [
      "\u001b[1m  3/624\u001b[0m \u001b[37m━━━━━━━━━━━━━━━━━━━━\u001b[0m \u001b[1m28s\u001b[0m 46ms/step - accuracy: 0.0122 - loss: 5.4819       "
     ]
    },
    {
     "name": "stderr",
     "output_type": "stream",
     "text": [
      "I0000 00:00:1737050648.251862   61189 device_compiler.h:188] Compiled cluster using XLA!  This line is logged at most once for the lifetime of the process.\n"
     ]
    },
    {
     "name": "stdout",
     "output_type": "stream",
     "text": [
      "\u001b[1m107/624\u001b[0m \u001b[32m━━━\u001b[0m\u001b[37m━━━━━━━━━━━━━━━━━\u001b[0m \u001b[1m30s\u001b[0m 59ms/step - accuracy: 0.1128 - loss: 4.6079"
     ]
    }
   ],
   "source": [
    "# Навчання моделі\n",
    "history = model.fit(\n",
    "    train_ds,\n",
    "    steps_per_epoch=steps_per_epoch,\n",
    "    epochs=10,\n",
    "    validation_data=val_ds,\n",
    "    validation_steps=len(val_ds)\n",
    ")"
   ]
  },
  {
   "cell_type": "code",
   "execution_count": 143,
   "metadata": {},
   "outputs": [
    {
     "name": "stdout",
     "output_type": "stream",
     "text": [
      "Epoch 1/5\n"
     ]
    },
    {
     "name": "stderr",
     "output_type": "stream",
     "text": [
      "2025-01-15 16:28:23.509444: I external/local_xla/xla/stream_executor/cuda/cuda_asm_compiler.cc:397] ptxas warning : Registers are spilled to local memory in function 'gemm_fusion_dot_8124', 104 bytes spill stores, 104 bytes spill loads\n",
      "\n"
     ]
    },
    {
     "name": "stdout",
     "output_type": "stream",
     "text": [
      "\u001b[1m500/500\u001b[0m \u001b[32m━━━━━━━━━━━━━━━━━━━━\u001b[0m\u001b[37m\u001b[0m \u001b[1m316s\u001b[0m 592ms/step - accuracy: 0.2695 - loss: 3.3645 - val_accuracy: 0.5270 - val_loss: 1.8767\n",
      "Epoch 2/5\n",
      "\u001b[1m500/500\u001b[0m \u001b[32m━━━━━━━━━━━━━━━━━━━━\u001b[0m\u001b[37m\u001b[0m \u001b[1m282s\u001b[0m 565ms/step - accuracy: 0.4584 - loss: 2.2027 - val_accuracy: 0.5668 - val_loss: 1.7416\n",
      "Epoch 3/5\n",
      "\u001b[1m500/500\u001b[0m \u001b[32m━━━━━━━━━━━━━━━━━━━━\u001b[0m\u001b[37m\u001b[0m \u001b[1m282s\u001b[0m 563ms/step - accuracy: 0.5035 - loss: 1.9762 - val_accuracy: 0.5794 - val_loss: 1.6471\n",
      "Epoch 4/5\n",
      "\u001b[1m500/500\u001b[0m \u001b[32m━━━━━━━━━━━━━━━━━━━━\u001b[0m\u001b[37m\u001b[0m \u001b[1m285s\u001b[0m 569ms/step - accuracy: 0.5328 - loss: 1.8327 - val_accuracy: 0.5910 - val_loss: 1.5892\n",
      "Epoch 5/5\n",
      "\u001b[1m500/500\u001b[0m \u001b[32m━━━━━━━━━━━━━━━━━━━━\u001b[0m\u001b[37m\u001b[0m \u001b[1m283s\u001b[0m 567ms/step - accuracy: 0.5612 - loss: 1.6924 - val_accuracy: 0.6137 - val_loss: 1.5140\n"
     ]
    }
   ],
   "source": [
    "# Розморожуємо частину шарів базової моделі\n",
    "for layer in base_model.layers[:100]:  # Розморожуємо перші 100 шарів\n",
    "    layer.trainable = False\n",
    "for layer in base_model.layers[100:]:  # Залишаємо замороженими решту шарів\n",
    "    layer.trainable = True\n",
    "\n",
    "# Повторна компіляція моделі для fine-tuning\n",
    "model.compile(\n",
    "    optimizer=Adam(learning_rate=1e-5),  # Ще нижчий learning rate\n",
    "    loss=\"categorical_crossentropy\",\n",
    "    metrics=[\"accuracy\"]\n",
    ")\n",
    "\n",
    "# Fine-tuning\n",
    "history_fine = model.fit(\n",
    "    train_ds,\n",
    "    steps_per_epoch=steps_per_epoch,\n",
    "    epochs=5,\n",
    "    validation_data=val_ds,\n",
    "    validation_steps=len(val_ds)\n",
    ")\n",
    "\n",
    "# 500/500 ━━━━━━━━━━━━━━━━━━━━ 283s 567ms/step - accuracy: 0.5612 - loss: 1.6924 - val_accuracy: 0.6137 - val_loss: 1.5140"
   ]
  },
  {
   "cell_type": "code",
   "execution_count": null,
   "metadata": {},
   "outputs": [],
   "source": [
    "plt.figure(figsize=(12, 4))\n",
    "plt.subplot(1, 2, 1)\n",
    "plt.plot(history.history['accuracy'], label='Train Accuracy')\n",
    "plt.plot(history.history['val_accuracy'], label='Validation Accuracy')\n",
    "plt.title('Model Accuracy')\n",
    "plt.xlabel('Epoch')\n",
    "plt.ylabel('Accuracy')\n",
    "plt.legend()\n",
    "\n",
    "plt.subplot(1, 2, 2)\n",
    "plt.plot(history.history['loss'], label='Train Loss')\n",
    "plt.plot(history.history['val_loss'], label='Validation Loss')\n",
    "plt.title('Model Loss')\n",
    "plt.xlabel('Epoch')\n",
    "plt.ylabel('Loss')\n",
    "plt.legend()\n",
    "\n",
    "plt.tight_layout()\n",
    "plt.show()"
   ]
  },
  {
   "cell_type": "code",
   "execution_count": 29,
   "metadata": {},
   "outputs": [
    {
     "name": "stderr",
     "output_type": "stream",
     "text": [
      "WARNING:absl:You are saving your model as an HDF5 file via `model.save()` or `keras.saving.save_model(model)`. This file format is considered legacy. We recommend using instead the native Keras format, e.g. `model.save('my_model.keras')` or `keras.saving.save_model(model, 'my_model.keras')`. \n"
     ]
    }
   ],
   "source": [
    "model.save(config['training']['final_model_dir'] + \"model16.01MobileNetV2.h5\")  # Збереження моделі"
   ]
  }
 ],
 "metadata": {
  "kernelspec": {
   "display_name": ".venv",
   "language": "python",
   "name": "python3"
  },
  "language_info": {
   "codemirror_mode": {
    "name": "ipython",
    "version": 3
   },
   "file_extension": ".py",
   "mimetype": "text/x-python",
   "name": "python",
   "nbconvert_exporter": "python",
   "pygments_lexer": "ipython3",
   "version": "3.12.3"
  }
 },
 "nbformat": 4,
 "nbformat_minor": 2
}
